{
 "cells": [
  {
   "cell_type": "code",
   "execution_count": 1,
   "metadata": {},
   "outputs": [
    {
     "name": "stdout",
     "output_type": "stream",
     "text": [
      "surajit maity\n"
     ]
    }
   ],
   "source": [
    "# 1. Write a code to create a string with your name and print it.\n",
    "name=\"surajit maity\"\n",
    "print(name)"
   ]
  },
  {
   "cell_type": "code",
   "execution_count": 4,
   "metadata": {},
   "outputs": [
    {
     "name": "stdout",
     "output_type": "stream",
     "text": [
      "11\n"
     ]
    }
   ],
   "source": [
    "# 2. Write a code to find the length of the string \"Hello World\"\n",
    "name=\"Hello World\"\n",
    "print(len(name))"
   ]
  },
  {
   "cell_type": "code",
   "execution_count": 6,
   "metadata": {},
   "outputs": [
    {
     "name": "stdout",
     "output_type": "stream",
     "text": [
      "Pyt\n"
     ]
    }
   ],
   "source": [
    "# 3.  Write a code to slice the first 3 characters from the string \"Python Programming\"\n",
    "name=\"Python Programming\"\n",
    "name=name[:3]\n",
    "print(name)"
   ]
  },
  {
   "cell_type": "code",
   "execution_count": 7,
   "metadata": {},
   "outputs": [
    {
     "name": "stdout",
     "output_type": "stream",
     "text": [
      "HELL0\n"
     ]
    }
   ],
   "source": [
    "# 4. Write a code to convert the string \"hello\" to uppercase\n",
    "name=\"hell0\"\n",
    "name=name.upper()\n",
    "print(name)"
   ]
  },
  {
   "cell_type": "code",
   "execution_count": 11,
   "metadata": {},
   "outputs": [
    {
     "name": "stdout",
     "output_type": "stream",
     "text": [
      "I like orange\n"
     ]
    }
   ],
   "source": [
    "# 5. Write a code to replace the word \"apple\" with \"orange\" in the string \"I like apple\"\n",
    "str1=\"I like apple\"\n",
    "str1=str1.replace(\"apple\",\"orange\")\n",
    "print(str1)"
   ]
  },
  {
   "cell_type": "code",
   "execution_count": 10,
   "metadata": {},
   "outputs": [
    {
     "name": "stdout",
     "output_type": "stream",
     "text": [
      "[1, 2, 3, 4, 5]\n"
     ]
    }
   ],
   "source": [
    "# 6. Write a code to create a list with numbers 1 to 5 and print it\n",
    "list1=[]\n",
    "for i in range(1,6):\n",
    "    list1.append(i)\n",
    "print(list1)"
   ]
  },
  {
   "cell_type": "code",
   "execution_count": 11,
   "metadata": {},
   "outputs": [
    {
     "name": "stdout",
     "output_type": "stream",
     "text": [
      "[1, 2, 3, 4, 10]\n"
     ]
    }
   ],
   "source": [
    "# 7.Write a code to append the number 10 to the list [1, 2, 3, 4]\n",
    "list1=[1, 2, 3, 4]\n",
    "list1.append(10)\n",
    "print(list1)"
   ]
  },
  {
   "cell_type": "code",
   "execution_count": 13,
   "metadata": {},
   "outputs": [
    {
     "name": "stdout",
     "output_type": "stream",
     "text": [
      "[1, 2, 4, 5]\n"
     ]
    }
   ],
   "source": [
    "# 8.write a code to remove the number 3 from the list [1, 2, 3, 4, 5]\n",
    "list1=[1, 2, 3, 4, 5]\n",
    "list1.remove(3)\n",
    "print(list1)"
   ]
  },
  {
   "cell_type": "code",
   "execution_count": 16,
   "metadata": {},
   "outputs": [
    {
     "name": "stdout",
     "output_type": "stream",
     "text": [
      "b\n"
     ]
    }
   ],
   "source": [
    "# 9.Write a code to access the second element in the list ['a', 'b', 'c', 'd']\n",
    "list1=['a', 'b', 'c', 'd']\n",
    "print(list1[1])"
   ]
  },
  {
   "cell_type": "code",
   "execution_count": 1,
   "metadata": {},
   "outputs": [
    {
     "name": "stdout",
     "output_type": "stream",
     "text": [
      "[50, 40, 30, 20, 10]\n"
     ]
    }
   ],
   "source": [
    "# 10.Write a code to reverse the list [10, 20, 30, 40, 50].\n",
    "list1=[10, 20, 30, 40, 50]\n",
    "list1.reverse()\n",
    "print(list1)"
   ]
  },
  {
   "cell_type": "code",
   "execution_count": 4,
   "metadata": {},
   "outputs": [
    {
     "name": "stdout",
     "output_type": "stream",
     "text": [
      "(100, 200, 300)\n"
     ]
    }
   ],
   "source": [
    "# 11.  Write a code to create a tuple with the elements 100, 200, 300 and print it.\n",
    "tup=(100,200,300)\n",
    "print(tup)"
   ]
  },
  {
   "cell_type": "code",
   "execution_count": 5,
   "metadata": {},
   "outputs": [
    {
     "name": "stdout",
     "output_type": "stream",
     "text": [
      "('green', 'blue', 'yellow')\n"
     ]
    }
   ],
   "source": [
    "# 12. Write a code to access the second-to-last element of the tuple ('red', 'green', 'blue', 'yellow')\n",
    "tup=('red', 'green', 'blue', 'yellow')\n",
    "print(tup[1:])"
   ]
  },
  {
   "cell_type": "code",
   "execution_count": 8,
   "metadata": {},
   "outputs": [
    {
     "name": "stdout",
     "output_type": "stream",
     "text": [
      "5\n"
     ]
    }
   ],
   "source": [
    "# 13. Write a code to find the minimum number in the tuple (10, 20, 5, 15).\n",
    "tup=(10, 20, 5, 15)\n",
    "min=tup[0]\n",
    "for i in tup:\n",
    "    if min>i:\n",
    "        min=i\n",
    "print(min)"
   ]
  },
  {
   "cell_type": "code",
   "execution_count": 9,
   "metadata": {},
   "outputs": [
    {
     "name": "stdout",
     "output_type": "stream",
     "text": [
      "1\n"
     ]
    }
   ],
   "source": [
    "# 14.  Write a code to find the index of the element \"cat\" in the tuple ('dog', 'cat', 'rabbit').\n",
    "tup11=('dog', 'cat', 'rabbit')\n",
    "print(tup1.index(\"cat\"))"
   ]
  },
  {
   "cell_type": "code",
   "execution_count": 10,
   "metadata": {},
   "outputs": [
    {
     "name": "stdout",
     "output_type": "stream",
     "text": [
      "'kiwi' is not in frout tuple\n"
     ]
    }
   ],
   "source": [
    "# 15. Write a code to create a tuple containing three different fruits and check if \"kiwi\" is in it.\n",
    "frout=(\"banana\",\"mango\",\"apple\")\n",
    "if \"kiwi\" in frout:\n",
    "    print(\"'kiwi' is in frout tuple\")\n",
    "else:\n",
    "    print(\"'kiwi' is not in frout tuple\")"
   ]
  },
  {
   "cell_type": "code",
   "execution_count": 11,
   "metadata": {},
   "outputs": [
    {
     "name": "stdout",
     "output_type": "stream",
     "text": [
      "('a', 'b', 'c')\n"
     ]
    }
   ],
   "source": [
    "# 16. write a code to create a set with the elements 'a', 'b', 'c' and print it.\n",
    "set1=('a', 'b', 'c')\n",
    "print(set1)"
   ]
  },
  {
   "cell_type": "code",
   "execution_count": 18,
   "metadata": {},
   "outputs": [
    {
     "name": "stdout",
     "output_type": "stream",
     "text": [
      "set()\n"
     ]
    }
   ],
   "source": [
    "#17.  Write a code to clear all elements from the set {1, 2, 3, 4, 5}.\n",
    "set1= {1, 2, 3, 4, 5}\n",
    "set1.clear()\n",
    "print(set1)"
   ]
  },
  {
   "cell_type": "code",
   "execution_count": 19,
   "metadata": {},
   "outputs": [
    {
     "name": "stdout",
     "output_type": "stream",
     "text": [
      "{1, 2, 3}\n"
     ]
    }
   ],
   "source": [
    "#18. Write a code to remove the element 4 from the set {1, 2, 3, 4}.\n",
    "set1={1, 2, 3, 4}\n",
    "set1.remove(4)\n",
    "print(set1)"
   ]
  },
  {
   "cell_type": "code",
   "execution_count": 21,
   "metadata": {},
   "outputs": [
    {
     "name": "stdout",
     "output_type": "stream",
     "text": [
      "{1, 2, 3, 4, 5}\n"
     ]
    }
   ],
   "source": [
    "# 19. 19. Write a code to find the union of two sets {1, 2, 3} and {3, 4, 5}.\n",
    "set1={1,2,3}\n",
    "set2={3,4,5}\n",
    "set3=set1.union(set2)\n",
    "print(set3)"
   ]
  },
  {
   "cell_type": "code",
   "execution_count": 22,
   "metadata": {},
   "outputs": [
    {
     "name": "stdout",
     "output_type": "stream",
     "text": [
      "{2, 3}\n"
     ]
    }
   ],
   "source": [
    "# 20. Write a code to find the intersection of two sets {1, 2, 3} and {2, 3, 4}.\n",
    "set1={1,2,3}\n",
    "set2={2,3,5}\n",
    "set3=set1.intersection(set2)\n",
    "print(set3)"
   ]
  },
  {
   "cell_type": "code",
   "execution_count": 3,
   "metadata": {},
   "outputs": [
    {
     "name": "stdout",
     "output_type": "stream",
     "text": [
      "{'name': 'surajit maity', 'age': 19, 'city': 'kalkata'}\n"
     ]
    }
   ],
   "source": [
    "# 21. Write a code to create a dictionary with the keys \"name\", \"age\", and \"city\", and print it.\n",
    "dict1={\"name\":\"surajit maity\",\n",
    "       \"age\":19,\n",
    "       \"city\":\"kalkata\"}\n",
    "print(dict1)"
   ]
  },
  {
   "cell_type": "code",
   "execution_count": 12,
   "metadata": {},
   "outputs": [
    {
     "name": "stdout",
     "output_type": "stream",
     "text": [
      "{'name': 'John', 'age': 25, 'country': 'USA'}\n"
     ]
    }
   ],
   "source": [
    "# 22. Write a code to add a new key-value pair \"country\": \"USA\" to the dictionary {'name': 'John', 'age': 25}.\n",
    "dict1={'name': 'John', 'age': 25}\n",
    "dict1.update({\"country\": \"USA\"})\n",
    "print(dict1)"
   ]
  },
  {
   "cell_type": "code",
   "execution_count": 21,
   "metadata": {},
   "outputs": [
    {
     "name": "stdout",
     "output_type": "stream",
     "text": [
      "dict_items([('name', 'Alice'), ('age', 30)])\n"
     ]
    }
   ],
   "source": [
    "#  23. Write a code to access the value associated with the key \"name\" in the dictionary {'name': 'Alice', 'age': 30}.\n",
    "dict1={'name': 'Alice', 'age': 30}\n",
    "print(dict1.items())"
   ]
  },
  {
   "cell_type": "code",
   "execution_count": 30,
   "metadata": {},
   "outputs": [
    {
     "name": "stdout",
     "output_type": "stream",
     "text": [
      "{'name': 'Bob', 'city': 'New York'}\n"
     ]
    }
   ],
   "source": [
    "#  24. Write a code to remove the key \"age\" from the dictionary {'name': 'Bob', 'age': 22, 'city': 'New York'}.\n",
    "dict1={'name': 'Bob', 'age': 22, 'city': 'New York'}\n",
    "dict1.pop(\"age\")\n",
    "print(dict1)"
   ]
  },
  {
   "cell_type": "code",
   "execution_count": 32,
   "metadata": {},
   "outputs": [
    {
     "name": "stdout",
     "output_type": "stream",
     "text": [
      "True\n"
     ]
    }
   ],
   "source": [
    "#  25. Write a code to check if the key \"city\" exists in the dictionary {'name': 'Alice', 'city': 'Paris'}.\n",
    "dict1={'name': 'Alice', 'city': 'Paris'}\n",
    "p=\"city\" in dict1\n",
    "print(p)\n"
   ]
  },
  {
   "cell_type": "code",
   "execution_count": 34,
   "metadata": {},
   "outputs": [
    {
     "name": "stdout",
     "output_type": "stream",
     "text": [
      "list is[2, 3, 4, 5, 'surajit', (3+4j)]\n",
      " tuple is{67, 'maity', 23, 45, (5+3j)}\n",
      " dictonary is{'name': 'Alice', 'city': 'Paris'}\n"
     ]
    }
   ],
   "source": [
    "# 26. Write a code to create a list, a tuple, and a dictionary, and print them all.\n",
    "list1=[2,3,4,5,'surajit',3+4j]\n",
    "tuple1={23,45,67,\"maity\",5+3j}\n",
    "dict1={'name': 'Alice', 'city': 'Paris'}\n",
    "print(f\"list is{list1}\\n tuple is{tuple1}\\n dictonary is{dict1}\")"
   ]
  },
  {
   "cell_type": "code",
   "execution_count": 27,
   "metadata": {},
   "outputs": [
    {
     "name": "stdout",
     "output_type": "stream",
     "text": [
      "[5, 14, 33, 65, 88]\n"
     ]
    }
   ],
   "source": [
    "#  27. Write a code to create a list of 5 random numbers between 1 and 100, sort it in ascending order, and print the result.(replaced)\n",
    "import random as rn\n",
    "random_number=rn.sample(range(1,100),5)\n",
    "random_number=sorted(random_number)\n",
    "print(random_number)\n"
   ]
  },
  {
   "cell_type": "code",
   "execution_count": 2,
   "metadata": {},
   "outputs": [
    {
     "name": "stdout",
     "output_type": "stream",
     "text": [
      "tithi\n"
     ]
    }
   ],
   "source": [
    "# 28. Write a code to create a list with strings and print the element at the third index.\n",
    "list1=[\"surajit\",\"suman\",\"bithika\",\"tithi\",\"sarama\",\"sukanta\"]\n",
    "print(list1[3])\n"
   ]
  },
  {
   "cell_type": "code",
   "execution_count": 1,
   "metadata": {},
   "outputs": [
    {
     "name": "stdout",
     "output_type": "stream",
     "text": [
      "{'Name': 'surajit maity', 'Age': 19, 'Address': 'kakdwip', 'name': 'tithi maity', 'age': 19, 'address': 'kakdwip'}\n"
     ]
    }
   ],
   "source": [
    "#  29. Write a code to combine two dictionaries into one and print the result.\n",
    "dict1={\"Name\":\"surajit maity\",\n",
    "       \"Age\":19,\n",
    "       \"Address\":\"kakdwip\"\n",
    "       }\n",
    "dict2={\"name\":\"tithi maity\",\n",
    "       \"age\":19,\n",
    "       \"address\":\"kakdwip\"\n",
    "       }\n",
    "dict1.update(dict2)\n",
    "print(dict1)"
   ]
  },
  {
   "cell_type": "code",
   "execution_count": 21,
   "metadata": {},
   "outputs": [
    {
     "name": "stdout",
     "output_type": "stream",
     "text": [
      "{'bithika', 'sarama', 'sukanta', 'surajit', 'suman', 'tithi'}\n"
     ]
    }
   ],
   "source": [
    "#  30. Write a code to convert a list of strings into a set.\n",
    "list1=[\"surajit\",\"suman\",\"bithika\",\"tithi\",\"sarama\",\"sukanta\"]\n",
    "set1=set(list1)\n",
    "print(set1)"
   ]
  }
 ],
 "metadata": {
  "kernelspec": {
   "display_name": "Python 3",
   "language": "python",
   "name": "python3"
  },
  "language_info": {
   "codemirror_mode": {
    "name": "ipython",
    "version": 3
   },
   "file_extension": ".py",
   "mimetype": "text/x-python",
   "name": "python",
   "nbconvert_exporter": "python",
   "pygments_lexer": "ipython3",
   "version": "3.12.4"
  }
 },
 "nbformat": 4,
 "nbformat_minor": 2
}
