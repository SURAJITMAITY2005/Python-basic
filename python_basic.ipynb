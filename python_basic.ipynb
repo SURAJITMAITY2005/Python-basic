{
  "nbformat": 4,
  "nbformat_minor": 0,
  "metadata": {
    "colab": {
      "provenance": []
    },
    "kernelspec": {
      "name": "python3",
      "display_name": "Python 3"
    },
    "language_info": {
      "name": "python"
    }
  },
  "cells": [
    {
      "cell_type": "code",
      "source": [
        "#1. Python program to print \"Hello, World!\"\n",
        "print(\"Hello, World!\")"
      ],
      "metadata": {
        "id": "J8CLMy9WbHc5",
        "colab": {
          "base_uri": "https://localhost:8080/"
        },
        "outputId": "fb4e4140-4783-449d-ca08-f647faa2f9a9"
      },
      "execution_count": null,
      "outputs": [
        {
          "output_type": "stream",
          "name": "stdout",
          "text": [
            "Hello, World!\n"
          ]
        }
      ]
    },
    {
      "cell_type": "code",
      "source": [
        "#2. Python program that displays your name and age\n",
        "name = \"surajit maity\"\n",
        "age = 19\n",
        "print(\"My name is\", name, \"and I am\", age,\" years old.\")"
      ],
      "metadata": {
        "id": "6E4YnEYJcXV7",
        "colab": {
          "base_uri": "https://localhost:8080/"
        },
        "outputId": "61b6221d-26db-4c8f-fc5a-5363376f61f3"
      },
      "execution_count": null,
      "outputs": [
        {
          "output_type": "stream",
          "name": "stdout",
          "text": [
            "My name is surajit maity and I am 19  years old.\n"
          ]
        }
      ]
    },
    {
      "cell_type": "code",
      "source": [
        "#3. Python code to print all the pre-defined keywords in Python using the keyword library\n",
        "import keyword\n",
        "print(\"Python Keywords:\", keyword.kwlist)"
      ],
      "metadata": {
        "colab": {
          "base_uri": "https://localhost:8080/"
        },
        "id": "gpqxCD5DfR4J",
        "outputId": "05b7bd33-3398-462e-d4df-37be1c557869"
      },
      "execution_count": null,
      "outputs": [
        {
          "output_type": "stream",
          "name": "stdout",
          "text": [
            "Python Keywords: ['False', 'None', 'True', 'and', 'as', 'assert', 'async', 'await', 'break', 'class', 'continue', 'def', 'del', 'elif', 'else', 'except', 'finally', 'for', 'from', 'global', 'if', 'import', 'in', 'is', 'lambda', 'nonlocal', 'not', 'or', 'pass', 'raise', 'return', 'try', 'while', 'with', 'yield']\n"
          ]
        }
      ]
    },
    {
      "cell_type": "code",
      "source": [
        "#4. Python program to check if a given word is a Python keyword\n",
        "import keyword\n",
        "word = input(\"Enter a word: \")\n",
        "if keyword.iskeyword(word):\n",
        "    print(word, \"is a Python keyword.\")\n",
        "else:\n",
        "    print(word,\" is not a Python keyword.\")"
      ],
      "metadata": {
        "colab": {
          "base_uri": "https://localhost:8080/"
        },
        "id": "H89UdnJ9fbGA",
        "outputId": "2dbbdc32-24cf-4ab9-e03b-dd8556d17ac8"
      },
      "execution_count": null,
      "outputs": [
        {
          "output_type": "stream",
          "name": "stdout",
          "text": [
            "Enter a word: sum\n",
            "sum  is not a Python keyword.\n"
          ]
        }
      ]
    },
    {
      "cell_type": "code",
      "source": [
        "#5. Create a list and tuple in Python, and demonstrate how attempting to change an element works differently for each\n",
        "my_list = [1, 2, 3]\n",
        "my_tuple = (4, 5, 6)\n",
        "my_list[0] = 10\n",
        "print(\"Modified List:\", my_list)\n",
        "try:\n",
        "    my_tuple[0] = 10\n",
        "except :\n",
        "    print(\"Error:\")"
      ],
      "metadata": {
        "colab": {
          "base_uri": "https://localhost:8080/"
        },
        "id": "M6fcrf1FfTJJ",
        "outputId": "8239549c-177d-417b-f08a-379ce3946ddd"
      },
      "execution_count": null,
      "outputs": [
        {
          "output_type": "stream",
          "name": "stdout",
          "text": [
            "Modified List: [10, 2, 3]\n",
            "Error:\n"
          ]
        }
      ]
    },
    {
      "cell_type": "code",
      "source": [
        "#6. Function to demonstrate the behavior of mutable and immutable arguments\n",
        "def demonstrate(mutable_arg, immutable_arg):\n",
        "    print(\"Before modification:\")\n",
        "    print(\"Mutable Argument: \",mutable_arg)\n",
        "    print(\"Immutable Argument: \",immutable_arg)\n",
        "    mutable_arg.append(4)\n",
        "    immutable_arg = 20\n",
        "    print(\"After modification:\")\n",
        "    print(\"Mutable Argument: \",mutable_arg)\n",
        "    print(\"Immutable Argument: \",immutable_arg)\n",
        "mutable_list = [1, 2, 3]\n",
        "immutable_int = 10\n",
        "demonstrate(mutable_list, immutable_int)"
      ],
      "metadata": {
        "colab": {
          "base_uri": "https://localhost:8080/"
        },
        "id": "7LUQBDL-fUF4",
        "outputId": "73eb65bc-a2b9-46da-f841-45a1a38ea3a5"
      },
      "execution_count": null,
      "outputs": [
        {
          "output_type": "stream",
          "name": "stdout",
          "text": [
            "Before modification:\n",
            "Mutable Argument:  [1, 2, 3]\n",
            "Immutable Argument:  10\n",
            "After modification:\n",
            "Mutable Argument:  [1, 2, 3, 4]\n",
            "Immutable Argument:  20\n",
            "Before modification:\n",
            "Mutable Argument:  [1, 2, 3]\n",
            "Immutable Argument:  10\n",
            "After modification:\n",
            "Mutable Argument:  [1, 2, 3, 4]\n",
            "Immutable Argument:  20\n"
          ]
        }
      ]
    },
    {
      "cell_type": "code",
      "source": [
        "#7.write a  Program that perform basic arithmetic operations on two user-input numbers\n",
        "num1 = int(input(\"Enter the first number: \"))\n",
        "num2 = int(input(\"Enter the second number: \"))\n",
        "print(\"Addition:\", (num1 + num2))\n",
        "print(\"Subtraction:\",(num1 - num2))\n",
        "print(\"Multiplication:\",(num1 * num2))\n",
        "print(\"Division:\", (num1 / num2))"
      ],
      "metadata": {
        "colab": {
          "base_uri": "https://localhost:8080/"
        },
        "id": "2sv4hes9fUPn",
        "outputId": "44b557c3-9734-437a-9f0c-095a5ea64b66"
      },
      "execution_count": null,
      "outputs": [
        {
          "output_type": "stream",
          "name": "stdout",
          "text": [
            "Enter the first number: 8\n",
            "Enter the second number: 4\n",
            "Addition: 12\n",
            "Subtraction: 4\n",
            "Multiplication: 32\n",
            "Division: 2.0\n"
          ]
        }
      ]
    },
    {
      "cell_type": "code",
      "source": [
        "#8.write a program Program to demonstrate the use of logical operator\n",
        "x = int(input(\"Enter a number: \"))\n",
        "y = int(input(\"Enter another number: \"))\n",
        "print(\"x > 5 and y < 10: \",(x > 5 and y < 10))\n",
        "print(\"x > 5 or y < 10: \",(x > 5 or y < 10))\n",
        "print(\"not(x > 5): \",(not(x > 5)))"
      ],
      "metadata": {
        "colab": {
          "base_uri": "https://localhost:8080/"
        },
        "id": "c4bT5BqgfUVn",
        "outputId": "0168c8e8-80d0-480f-f2a2-51821c577176"
      },
      "execution_count": null,
      "outputs": [
        {
          "output_type": "stream",
          "name": "stdout",
          "text": [
            "Enter a number: 4\n",
            "Enter another number: 7\n",
            "x > 5 and y < 10:  False\n",
            "x > 5 or y < 10:  True\n",
            "not(x > 5):  True\n"
          ]
        }
      ]
    },
    {
      "cell_type": "code",
      "source": [
        "#9.write Python program to convert user input from string to integer, float, and boolean types\n",
        "input_str = input(\"Enter something: \")\n",
        "input_int = int(input_str)\n",
        "input_float = float(input_str)\n",
        "input_bool = bool(input_str)\n",
        "print(\"String: \",input_str)\n",
        "print(\"Integer: \",input_int)\n",
        "print(\"Float: \",input_float)\n",
        "print(\"Boolean: \",input_bool)"
      ],
      "metadata": {
        "colab": {
          "base_uri": "https://localhost:8080/"
        },
        "id": "5bF1xbUAfUcy",
        "outputId": "f2f6a639-9125-477b-be33-1983dad709aa"
      },
      "execution_count": null,
      "outputs": [
        {
          "output_type": "stream",
          "name": "stdout",
          "text": [
            "Enter something: 23\n",
            "String:  23\n",
            "Integer:  23\n",
            "Float:  23.0\n",
            "Boolean:  True\n"
          ]
        }
      ]
    },
    {
      "cell_type": "code",
      "source": [
        "#10.write a code to demonstrate type casting with list elements.\n"
      ],
      "metadata": {
        "id": "vP_OAw2dfUl4"
      },
      "execution_count": null,
      "outputs": []
    },
    {
      "cell_type": "code",
      "source": [
        "#11.write a program that checks if a number is positive, negative, or zero.\n",
        "num = float(input(\"Enter a number: \"))\n",
        "if num > 0:\n",
        "    print(num,\" is positive.\")\n",
        "elif num < 0:\n",
        "    print(num,\" is negative.\")\n",
        "else:\n",
        "    print(num,\" is zero.\")"
      ],
      "metadata": {
        "colab": {
          "base_uri": "https://localhost:8080/"
        },
        "id": "kibwzz0xnc05",
        "outputId": "9fc282ac-d045-4700-8170-27bbe5a91fb5"
      },
      "execution_count": null,
      "outputs": [
        {
          "output_type": "stream",
          "name": "stdout",
          "text": [
            "Enter a number: 34.0\n",
            "34.0  is positive.\n"
          ]
        }
      ]
    },
    {
      "cell_type": "code",
      "source": [
        "#12.write a for loop to print numbers from 1 to 10.\n",
        "for i in range(1, 11):\n",
        "    print(i)"
      ],
      "metadata": {
        "colab": {
          "base_uri": "https://localhost:8080/"
        },
        "id": "v6Uo0_7loFXx",
        "outputId": "a694de53-5878-4748-d75c-720bb48cd8d7"
      },
      "execution_count": null,
      "outputs": [
        {
          "output_type": "stream",
          "name": "stdout",
          "text": [
            "1\n",
            "2\n",
            "3\n",
            "4\n",
            "5\n",
            "6\n",
            "7\n",
            "8\n",
            "9\n",
            "10\n"
          ]
        }
      ]
    },
    {
      "cell_type": "code",
      "source": [
        "#13. Write a Python program to find the sum of all even numbers between 1 and 50\n",
        "even_sum = 0\n",
        "for i in range(2, 51, 2):\n",
        "    even_sum += i\n",
        "print(\"The sum of all even numbers between 1 and 50 is: \",even_sum)"
      ],
      "metadata": {
        "colab": {
          "base_uri": "https://localhost:8080/"
        },
        "id": "ProaqhFRogYS",
        "outputId": "ac2e6825-a859-455d-fbd6-69a5aacc9551"
      },
      "execution_count": null,
      "outputs": [
        {
          "output_type": "stream",
          "name": "stdout",
          "text": [
            "The sum of all even numbers between 1 and 50 is:  650\n"
          ]
        }
      ]
    },
    {
      "cell_type": "code",
      "source": [
        "#14. Write a program to reverse a string using a while loop.\n",
        "input_str = input(\"Enter a string: \")\n",
        "reversed_str = \"\"\n",
        "index = len(input_str) - 1\n",
        "while index >= 0:\n",
        "    reversed_str += input_str[index]\n",
        "    index -= 1\n",
        "print(\"Reversed string: \",reversed_str)"
      ],
      "metadata": {
        "colab": {
          "base_uri": "https://localhost:8080/"
        },
        "id": "MxXJUNxSou6i",
        "outputId": "1a7d583f-aab0-456a-ffba-abeaf73c0690"
      },
      "execution_count": null,
      "outputs": [
        {
          "output_type": "stream",
          "name": "stdout",
          "text": [
            "Enter a string: surajit\n",
            "Reversed string:  tijarus\n"
          ]
        }
      ]
    },
    {
      "cell_type": "code",
      "source": [
        "#15. Write a Python program to calculate the factorial of a number provided by the user using a while loop.\n",
        "num = int(input(\"Enter a number to find its factorial: \"))\n",
        "factorial = 1\n",
        "while num > 0:\n",
        "    factorial *= num\n",
        "    num -= 1\n",
        "print(\"Factorial: \",factorial)"
      ],
      "metadata": {
        "colab": {
          "base_uri": "https://localhost:8080/"
        },
        "id": "nWKyQx0vpJjB",
        "outputId": "327f2fd6-b004-4b29-f9e2-a3627020f998"
      },
      "execution_count": null,
      "outputs": [
        {
          "output_type": "stream",
          "name": "stdout",
          "text": [
            "Enter a number to find its factorial: 5\n",
            "Factorial:  120\n"
          ]
        }
      ]
    }
  ]
}