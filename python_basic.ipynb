{
  "nbformat": 4,
  "nbformat_minor": 0,
  "metadata": {
    "colab": {
      "provenance": []
    },
    "kernelspec": {
      "name": "python3",
      "display_name": "Python 3"
    },
    "language_info": {
      "name": "python"
    }
  },
  "cells": [
    {
      "cell_type": "markdown",
      "source": [],
      "metadata": {
        "id": "wWclMTruSrcq"
      }
    },
    {
      "cell_type": "code",
      "execution_count": null,
      "metadata": {
        "colab": {
          "base_uri": "https://localhost:8080/"
        },
        "id": "LIKayYu6RkjO",
        "outputId": "217110bd-e10b-4be4-d3a1-709d328366a3"
      },
      "outputs": [
        {
          "output_type": "stream",
          "name": "stdout",
          "text": [
            "surajit\n"
          ]
        }
      ],
      "source": []
    },
    {
      "cell_type": "markdown",
      "source": [
        "1. What is Python, and why is it popular\n",
        "\n",
        "    -Python is a high-level, interpreted programming language known for its simplicity and readability. It supports multiple programming paradigms, including object-oriented, functional, and procedural programming. It is popular because of its ease of learning, large standard library, versatility in different domains (like web development, data science, AI), strong community support, and rich ecosystem of frameworks and libraries.\n",
        "\n",
        "2. What is an interpreter in Python?\n",
        "\n",
        "    -An interpreter in Python is a program that reads and executes Python code line by line. Unlike compiled languages, which convert the whole code to machine code at once, the interpreter translates Python code into machine language at runtime. This makes Python easier to debug and allows for interactive coding.\n",
        "\n",
        "3. What are pre-defined keywords in Python?\n",
        "\n",
        "    -Pre-defined keywords in Python are reserved words that have special meaning and cannot be used as identifiers (variable names, function names, etc). These keywords define the syntax and structure of the Python language. Examples include:\n",
        "    -if, else, elif, while, for, import, try, except, def, class, True, False, None, etc\n",
        "\n",
        "4. Can keywords be used as variable names?\n",
        "\n",
        "    -No, keywords cannot be used as variable names in Python. Since keywords have special meaning in the language's syntax, using them as variable names would create ambiguity and errors in the code.\n",
        "\n",
        "5. What is mutability in Python?\n",
        "\n",
        "    -Mutability refers to whether  value can be changed after it is created. If an object is mutable, its contents can be modified; if it is immutable, it cannot. In Python, types like lists are mutable (you can change their elements), while tuples are immutable (you cannot modify their elements after creation).\n",
        "\n",
        "6. Why are lists mutable, but tuples are immutable?\n",
        "\n",
        "    -Lists are mutable because they are designed to store collections of data that can change over time, such as when you need to add or remove elements. Tuples, on the other hand, are immutable because they are often used to store fixed, unchangeable collections of data. This immutability makes tuples hashable and suitable as keys in dictionaries, unlike lists.\n",
        "\n",
        "7. What is the difference between “==” and “is” operators in Python?\n",
        "\n",
        "    -The == operator checks for equality between the values of two objects (whether they are equivalent).\n",
        "    -The is operator checks for identity, meaning it checks whether two variables point to the same object in memory (whether they are the exact same object, not just equal in value).\n",
        "\n",
        "8. What are logical operators in Python?\n",
        "\n",
        "    -and: Returns True if both conditions are true.\n",
        "    -or: Returns True if at least one of the conditions is true.\n",
        "    -not: Reverses the Boolean value (returns True if the condition is false, and vice versa).\n",
        "\n",
        "9. What is type casting in Python?\n",
        "\n",
        "    -Type casting is the process of converting one data type to another. This is often done when you want to perform operations involving different data types. Python provides several built-in functions for type casting, such as:\n",
        "    \n",
        "    int(): Converts a value to an integer.\n",
        "    float(): Converts a value to a float.\n",
        "\n",
        "10. What is the difference between implicit and explicit type casting?\n",
        "\n",
        "    -Implicit type casting (or type coercion) is automatically performed by Python when it converts one data type to another during an operation.\n",
        "    Example: 5 + 2.5 results in 7.5 (Python automatically converts 5 to a float).\n",
        "    -Explicit type casting is when the programmer manually converts one data type to another using functions like int(), float(), str(), etc.\n",
        "    Example: x = int(3.14) converts the float 3.14 to an integer 3.\n",
        "\n",
        "11. What is the purpose of conditional statements in Python?\n",
        "\n",
        "    -Conditional statements allow you  execute certain blocks of code based on whether a given condition is true or false. This makes it is possible to control the flow of the program and make decisions. The  conditional statements are:\n",
        "\n",
        "    if: Executes a block of code if a condition is true.\n",
        "    else: Executes a block of code if the condition in the if statement is false.\n",
        "    elif: Stands for \"else if\" and allows you to check additional conditions.\n",
        "\n",
        "12. How does the elif statement work?\n",
        "\n",
        "    -The elif statement allows you to check multiple conditions. If the condition in the if statement is false, it checks the conditions of each elif block, in order, until one is true. If none of the conditions are true, the code under the else block (if present) will be executed.\n",
        "\n",
        "13. What is the difference between for and while loops?\n",
        "\n",
        "    -for loop: It is typically used when you know how many times you want to iterate over a sequence . It is often used to loop through items in a collection.\n",
        "\n",
        "    -while loop: It is used when you don’t know beforehand how many times you need to iterate. It keeps looping as long as a specified condition is true.\n",
        "\n",
        "14. Describe a scenario where a while loop is more suitable than a for loop.\n",
        "\n",
        "    -A while loop is more suitable when you want to repeat a process an unknown number of times and continue until a specific condition is met."
      ],
      "metadata": {
        "id": "VDWNF0idSu--"
      }
    },
    {
      "cell_type": "code",
      "source": [
        "#1. Python program to print \"Hello, World!\"\n",
        "print(\"Hello, World!\")"
      ],
      "metadata": {
        "id": "J8CLMy9WbHc5",
        "colab": {
          "base_uri": "https://localhost:8080/"
        },
        "outputId": "fb4e4140-4783-449d-ca08-f647faa2f9a9"
      },
      "execution_count": 2,
      "outputs": [
        {
          "output_type": "stream",
          "name": "stdout",
          "text": [
            "Hello, World!\n"
          ]
        }
      ]
    },
    {
      "cell_type": "code",
      "source": [
        "#2. Python program that displays your name and age\n",
        "name = \"surajit maity\"\n",
        "age = 19\n",
        "print(\"My name is\", name, \"and I am\", age,\" years old.\")"
      ],
      "metadata": {
        "id": "6E4YnEYJcXV7",
        "colab": {
          "base_uri": "https://localhost:8080/"
        },
        "outputId": "61b6221d-26db-4c8f-fc5a-5363376f61f3"
      },
      "execution_count": 3,
      "outputs": [
        {
          "output_type": "stream",
          "name": "stdout",
          "text": [
            "My name is surajit maity and I am 19  years old.\n"
          ]
        }
      ]
    },
    {
      "cell_type": "markdown",
      "source": [],
      "metadata": {
        "id": "fp5BFgasSmAr"
      }
    },
    {
      "cell_type": "code",
      "source": [
        "#3. Python code to print all the pre-defined keywords in Python using the keyword library\n",
        "import keyword\n",
        "print(\"Python Keywords:\", keyword.kwlist)"
      ],
      "metadata": {
        "colab": {
          "base_uri": "https://localhost:8080/"
        },
        "id": "gpqxCD5DfR4J",
        "outputId": "05b7bd33-3398-462e-d4df-37be1c557869"
      },
      "execution_count": 4,
      "outputs": [
        {
          "output_type": "stream",
          "name": "stdout",
          "text": [
            "Python Keywords: ['False', 'None', 'True', 'and', 'as', 'assert', 'async', 'await', 'break', 'class', 'continue', 'def', 'del', 'elif', 'else', 'except', 'finally', 'for', 'from', 'global', 'if', 'import', 'in', 'is', 'lambda', 'nonlocal', 'not', 'or', 'pass', 'raise', 'return', 'try', 'while', 'with', 'yield']\n"
          ]
        }
      ]
    },
    {
      "cell_type": "code",
      "source": [
        "#4. Python program to check if a given word is a Python keyword\n",
        "import keyword\n",
        "word = input(\"Enter a word: \")\n",
        "if keyword.iskeyword(word):\n",
        "    print(word, \"is a Python keyword.\")\n",
        "else:\n",
        "    print(word,\" is not a Python keyword.\")"
      ],
      "metadata": {
        "colab": {
          "base_uri": "https://localhost:8080/"
        },
        "id": "H89UdnJ9fbGA",
        "outputId": "2dbbdc32-24cf-4ab9-e03b-dd8556d17ac8"
      },
      "execution_count": 5,
      "outputs": [
        {
          "output_type": "stream",
          "name": "stdout",
          "text": [
            "Enter a word: sum\n",
            "sum  is not a Python keyword.\n"
          ]
        }
      ]
    },
    {
      "cell_type": "code",
      "source": [
        "#5. Create a list and tuple in Python, and demonstrate how attempting to change an element works differently for each\n",
        "my_list = [1, 2, 3]\n",
        "my_tuple = (4, 5, 6)\n",
        "my_list[0] = 10\n",
        "print(\"Modified List:\", my_list)\n",
        "try:\n",
        "    my_tuple[0] = 10\n",
        "except :\n",
        "    print(\"Error:\")"
      ],
      "metadata": {
        "colab": {
          "base_uri": "https://localhost:8080/"
        },
        "id": "M6fcrf1FfTJJ",
        "outputId": "8239549c-177d-417b-f08a-379ce3946ddd"
      },
      "execution_count": 6,
      "outputs": [
        {
          "output_type": "stream",
          "name": "stdout",
          "text": [
            "Modified List: [10, 2, 3]\n",
            "Error:\n"
          ]
        }
      ]
    },
    {
      "cell_type": "code",
      "source": [
        "#6. Function to demonstrate the behavior of mutable and immutable arguments\n",
        "def demonstrate(mutable_arg, immutable_arg):\n",
        "    print(\"Before modification:\")\n",
        "    print(\"Mutable Argument: \",mutable_arg)\n",
        "    print(\"Immutable Argument: \",immutable_arg)\n",
        "    mutable_arg.append(4)\n",
        "    immutable_arg = 20\n",
        "    print(\"After modification:\")\n",
        "    print(\"Mutable Argument: \",mutable_arg)\n",
        "    print(\"Immutable Argument: \",immutable_arg)\n",
        "mutable_list = [1, 2, 3]\n",
        "immutable_int = 10\n",
        "demonstrate(mutable_list, immutable_int)"
      ],
      "metadata": {
        "colab": {
          "base_uri": "https://localhost:8080/"
        },
        "id": "7LUQBDL-fUF4",
        "outputId": "73eb65bc-a2b9-46da-f841-45a1a38ea3a5"
      },
      "execution_count": 9,
      "outputs": [
        {
          "output_type": "stream",
          "name": "stdout",
          "text": [
            "Before modification:\n",
            "Mutable Argument:  [1, 2, 3]\n",
            "Immutable Argument:  10\n",
            "After modification:\n",
            "Mutable Argument:  [1, 2, 3, 4]\n",
            "Immutable Argument:  20\n",
            "Before modification:\n",
            "Mutable Argument:  [1, 2, 3]\n",
            "Immutable Argument:  10\n",
            "After modification:\n",
            "Mutable Argument:  [1, 2, 3, 4]\n",
            "Immutable Argument:  20\n"
          ]
        }
      ]
    },
    {
      "cell_type": "code",
      "source": [
        "#7.write a  Program that perform basic arithmetic operations on two user-input numbers\n",
        "num1 = int(input(\"Enter the first number: \"))\n",
        "num2 = int(input(\"Enter the second number: \"))\n",
        "print(\"Addition:\", (num1 + num2))\n",
        "print(\"Subtraction:\",(num1 - num2))\n",
        "print(\"Multiplication:\",(num1 * num2))\n",
        "print(\"Division:\", (num1 / num2))"
      ],
      "metadata": {
        "colab": {
          "base_uri": "https://localhost:8080/"
        },
        "id": "2sv4hes9fUPn",
        "outputId": "44b557c3-9734-437a-9f0c-095a5ea64b66"
      },
      "execution_count": 11,
      "outputs": [
        {
          "output_type": "stream",
          "name": "stdout",
          "text": [
            "Enter the first number: 8\n",
            "Enter the second number: 4\n",
            "Addition: 12\n",
            "Subtraction: 4\n",
            "Multiplication: 32\n",
            "Division: 2.0\n"
          ]
        }
      ]
    },
    {
      "cell_type": "code",
      "source": [
        "#8.write a program Program to demonstrate the use of logical operator\n",
        "x = int(input(\"Enter a number: \"))\n",
        "y = int(input(\"Enter another number: \"))\n",
        "print(\"x > 5 and y < 10: \",(x > 5 and y < 10))\n",
        "print(\"x > 5 or y < 10: \",(x > 5 or y < 10))\n",
        "print(\"not(x > 5): \",(not(x > 5)))"
      ],
      "metadata": {
        "colab": {
          "base_uri": "https://localhost:8080/"
        },
        "id": "c4bT5BqgfUVn",
        "outputId": "0168c8e8-80d0-480f-f2a2-51821c577176"
      },
      "execution_count": 13,
      "outputs": [
        {
          "output_type": "stream",
          "name": "stdout",
          "text": [
            "Enter a number: 4\n",
            "Enter another number: 7\n",
            "x > 5 and y < 10:  False\n",
            "x > 5 or y < 10:  True\n",
            "not(x > 5):  True\n"
          ]
        }
      ]
    },
    {
      "cell_type": "code",
      "source": [
        "#9.write Python program to convert user input from string to integer, float, and boolean types\n",
        "input_str = input(\"Enter something: \")\n",
        "input_int = int(input_str)\n",
        "input_float = float(input_str)\n",
        "input_bool = bool(input_str)\n",
        "print(\"String: \",input_str)\n",
        "print(\"Integer: \",input_int)\n",
        "print(\"Float: \",input_float)\n",
        "print(\"Boolean: \",input_bool)"
      ],
      "metadata": {
        "colab": {
          "base_uri": "https://localhost:8080/"
        },
        "id": "5bF1xbUAfUcy",
        "outputId": "f2f6a639-9125-477b-be33-1983dad709aa"
      },
      "execution_count": 16,
      "outputs": [
        {
          "output_type": "stream",
          "name": "stdout",
          "text": [
            "Enter something: 23\n",
            "String:  23\n",
            "Integer:  23\n",
            "Float:  23.0\n",
            "Boolean:  True\n"
          ]
        }
      ]
    },
    {
      "cell_type": "code",
      "source": [
        "#10.write a code to demonstrate type casting with list elements.\n"
      ],
      "metadata": {
        "id": "vP_OAw2dfUl4"
      },
      "execution_count": null,
      "outputs": []
    },
    {
      "cell_type": "code",
      "source": [
        "#11.write a program that checks if a number is positive, negative, or zero.\n",
        "num = float(input(\"Enter a number: \"))\n",
        "if num > 0:\n",
        "    print(num,\" is positive.\")\n",
        "elif num < 0:\n",
        "    print(num,\" is negative.\")\n",
        "else:\n",
        "    print(num,\" is zero.\")"
      ],
      "metadata": {
        "colab": {
          "base_uri": "https://localhost:8080/"
        },
        "id": "kibwzz0xnc05",
        "outputId": "9fc282ac-d045-4700-8170-27bbe5a91fb5"
      },
      "execution_count": 17,
      "outputs": [
        {
          "output_type": "stream",
          "name": "stdout",
          "text": [
            "Enter a number: 34.0\n",
            "34.0  is positive.\n"
          ]
        }
      ]
    },
    {
      "cell_type": "code",
      "source": [
        "#12.write a for loop to print numbers from 1 to 10.\n",
        "for i in range(1, 11):\n",
        "    print(i)"
      ],
      "metadata": {
        "colab": {
          "base_uri": "https://localhost:8080/"
        },
        "id": "v6Uo0_7loFXx",
        "outputId": "a694de53-5878-4748-d75c-720bb48cd8d7"
      },
      "execution_count": 18,
      "outputs": [
        {
          "output_type": "stream",
          "name": "stdout",
          "text": [
            "1\n",
            "2\n",
            "3\n",
            "4\n",
            "5\n",
            "6\n",
            "7\n",
            "8\n",
            "9\n",
            "10\n"
          ]
        }
      ]
    },
    {
      "cell_type": "code",
      "source": [
        "#13. Write a Python program to find the sum of all even numbers between 1 and 50\n",
        "even_sum = 0\n",
        "for i in range(2, 51, 2):\n",
        "    even_sum += i\n",
        "print(\"The sum of all even numbers between 1 and 50 is: \",even_sum)"
      ],
      "metadata": {
        "colab": {
          "base_uri": "https://localhost:8080/"
        },
        "id": "ProaqhFRogYS",
        "outputId": "ac2e6825-a859-455d-fbd6-69a5aacc9551"
      },
      "execution_count": 19,
      "outputs": [
        {
          "output_type": "stream",
          "name": "stdout",
          "text": [
            "The sum of all even numbers between 1 and 50 is:  650\n"
          ]
        }
      ]
    },
    {
      "cell_type": "code",
      "source": [
        "#14. Write a program to reverse a string using a while loop.\n",
        "input_str = input(\"Enter a string: \")\n",
        "reversed_str = \"\"\n",
        "index = len(input_str) - 1\n",
        "while index >= 0:\n",
        "    reversed_str += input_str[index]\n",
        "    index -= 1\n",
        "print(\"Reversed string: \",reversed_str)"
      ],
      "metadata": {
        "colab": {
          "base_uri": "https://localhost:8080/"
        },
        "id": "MxXJUNxSou6i",
        "outputId": "1a7d583f-aab0-456a-ffba-abeaf73c0690"
      },
      "execution_count": 20,
      "outputs": [
        {
          "output_type": "stream",
          "name": "stdout",
          "text": [
            "Enter a string: surajit\n",
            "Reversed string:  tijarus\n"
          ]
        }
      ]
    },
    {
      "cell_type": "code",
      "source": [
        "#15. Write a Python program to calculate the factorial of a number provided by the user using a while loop.\n",
        "num = int(input(\"Enter a number to find its factorial: \"))\n",
        "factorial = 1\n",
        "while num > 0:\n",
        "    factorial *= num\n",
        "    num -= 1\n",
        "print(\"Factorial: \",factorial)"
      ],
      "metadata": {
        "colab": {
          "base_uri": "https://localhost:8080/"
        },
        "id": "nWKyQx0vpJjB",
        "outputId": "327f2fd6-b004-4b29-f9e2-a3627020f998"
      },
      "execution_count": 21,
      "outputs": [
        {
          "output_type": "stream",
          "name": "stdout",
          "text": [
            "Enter a number to find its factorial: 5\n",
            "Factorial:  120\n"
          ]
        }
      ]
    }
  ]
}