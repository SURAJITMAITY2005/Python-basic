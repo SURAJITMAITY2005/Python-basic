{
  "nbformat": 4,
  "nbformat_minor": 0,
  "metadata": {
    "colab": {
      "provenance": []
    },
    "kernelspec": {
      "name": "python3",
      "display_name": "Python 3"
    },
    "language_info": {
      "name": "python"
    }
  },
  "cells": [
    {
      "cell_type": "markdown",
      "source": [],
      "metadata": {
        "id": "6E-JYYyRl-gc"
      }
    },
    {
      "cell_type": "markdown",
      "source": [
        "1. What is a RESTful API?\n",
        "\n",
        "->A RESTful API (Representational State Transfer) is an architectural style that uses HTTP methods and status codes to perform CRUD (Create, Read, Update, Delete) operations on resources. It emphasizes stateless interactions, where each request from a client contains all the information the server needs to fulfill that request.\n",
        "\n",
        "2. Explain the concept of API specification.\n",
        "\n",
        "->An API specification is a formal document that describes the structure, operations, and interactions of an API. It typically includes details on endpoints, methods (GET, POST, etc.), request/response formats, status codes, authentication, and error handling. OpenAPI (formerly Swagger) is a popular specification format for RESTful APIs.\n",
        "\n",
        "3. What is Flask, and why is it popular for building APIs?\n",
        "\n",
        "->Flask is a micro web framework for Python that is lightweight and flexible. It allows you to quickly build APIs and web applications. Its popularity stems from its simplicity, scalability, and extensibility with various libraries and extensions (like Flask-RESTful).\n",
        "\n",
        "4. What is routing in Flask?\n",
        "\n",
        "->Routing in Flask refers to mapping a URL to a specific function (or view) in your application. You define routes using the @app.route() decorator, and each route corresponds to a URL path and an HTTP method (GET, POST, etc.).\n",
        "\n",
        "5. How do you create a simple Flask application?\n",
        "\n",
        "->A simple Flask app can be created by importing Flask, defining routes, and starting the app:\n",
        "\n",
        "from flask import Flask\n",
        "app = Flask(__name__)\n",
        "@app.route('/')\n",
        "def home():\n",
        "    return 'Hello, World!'\n",
        "if __name__ == '__main__':\n",
        "    app.run(debug=True)\n",
        "\n",
        "6. What are HTTP methods used in RESTful APIs?\n",
        "\n",
        "->Common HTTP methods in RESTful APIs include:\n",
        "GET: Retrieve data from the server.\n",
        "POST: Create a new resource.\n",
        "PUT: Update an existing resource.\n",
        "DELETE: Remove a resource.\n",
        "PATCH: Partially update a resource.\n",
        "\n",
        "7. What is the purpose of the @app.route() decorator in Flask?\n",
        "\n",
        "->The @app.route() decorator in Flask is used to bind a function (view) to a specific URL path. It tells Flask what to do when a specific URL is accessed.\n",
        "\n",
        "8. What is the difference between GET and POST HTTP methods?\n",
        "\n",
        "->GET is used to retrieve data from the server (safe and idempotent).\n",
        "\n",
        "POST is used to send data to the server to create a new resource.\n",
        "\n",
        "9. How do you handle errors in Flask APIs?\n",
        "\n",
        "->Errors in Flask APIs can be handled using:\n",
        "\n",
        "Flask error handling: Custom error pages for different status codes (e.g., 404, 500).\n",
        "\n",
        "Flask's abort() function: To manually raise errors (e.g., abort(404)).\n",
        "\n",
        "Flask's errorhandler() decorator: To handle specific error codes globally.\n",
        "\n",
        "10. How do you connect Flask to a SQL database?\n",
        "\n",
        "->You can connect Flask to an SQL database using libraries like SQLAlchemy or Flask-SQLAlchemy for ORM-based interactions. You would configure the database URI in the Flask app and create models to interact with the database.\n",
        "\n",
        "11. What is the role of Flask-SQLAlchemy?\n",
        "\n",
        "->Flask-SQLAlchemy is an extension for Flask that adds support for SQLAlchemy, which is an Object-Relational Mapping (ORM) library for database management. It simplifies database interactions by allowing you to use Python classes to interact with the database.\n",
        "\n",
        "12. What are Flask blueprints, and how are they useful?\n",
        "\n",
        "->Flask blueprints allow you to organize your Flask application into reusable modules. Each blueprint can define its own routes, views, and templates, making the application more modular and easier to maintain.\n",
        "\n",
        "13. What is the purpose of Flask's request object?\n",
        "\n",
        "->The request object in Flask contains all the data from an incoming HTTP request, such as form data, query parameters, headers, and cookies. It's used to access data sent by the client.\n",
        "\n",
        "14. How do you create a RESTful API endpoint using Flask?\n",
        "\n",
        "->You create a RESTful API endpoint in Flask using @app.route() and specifying the HTTP method. For example:\n",
        "\n",
        "@app.route('/api/items', methods=['GET'])\n",
        "def get_items():\n",
        "    return jsonify(items)\n",
        "\n",
        "15. What is the purpose of Flask's jsonify() function?\n",
        "\n",
        "->jsonify() is used in Flask to convert Python objects (such as dictionaries) into JSON responses with the correct content type (application/json).\n",
        "\n",
        "16. Explain Flask’s url_for() function.\n",
        "\n",
        "->url_for() generates the URL for a given function based on its name and any arguments passed to it. It's useful for creating links between routes dynamically.\n",
        "\n",
        " For example:\n",
        "url_for('home')  \n",
        "\n",
        "17. How does Flask handle static files (CSS, JavaScript, etc.)?\n",
        "\n",
        "->Flask automatically serves static files (like CSS, JavaScript, images) from the static folder. You can link to these files in your HTML using the url_for() function.\n",
        "\n",
        "18. What is an API specification, and how does it help in building a Flask API?\n",
        "\n",
        "->An API specification (like OpenAPI) defines the structure and behavior of your API, including endpoints, methods, parameters, and responses. It helps developers understand the API's functionality and ensures consistency in design.\n",
        "\n",
        "19. What are HTTP status codes, and why are they important in a Flask API?\n",
        "\n",
        "->HTTP status codes indicate the result of an HTTP request. Common status codes include:\n",
        "\n",
        "200 OK: Successful request.\n",
        "\n",
        "201 Created: Resource successfully created.\n",
        "\n",
        "404 Not Found: Resource not found.\n",
        "\n",
        "500 Internal Server Error: Server error.\n",
        "\n",
        "20. How do you handle POST requests in Flask?\n",
        "\n",
        "->You handle POST requests in Flask using the methods=['POST'] parameter in the route decorator. You can access data sent via POST using request.form, request.json, or request.data.\n",
        "\n",
        "21. How would you secure a Flask API?\n",
        "\n",
        "->Flask APIs can be secured by:\n",
        "\n",
        "Using API keys or OAuth for authentication.\n",
        "\n",
        "Implementing rate limiting to prevent abuse.\n",
        "\n",
        "Enforcing HTTPS to ensure secure communication.\n",
        "\n",
        "22. What is the significance of the Flask-RESTful extension?\n",
        "\n",
        "->Flask-RESTful is an extension that simplifies the creation of REST APIs by providing tools like resource classes, argument parsing, and response formatting, making it easier to build RESTful services in Flask.\n",
        "\n",
        "23. What is the role of Flask's session object?\n",
        "\n",
        "->The session object in Flask is used to store user-specific data across requests, like authentication information. It's typically stored on the client-side in cookies, but the data is signed to prevent tampering."
      ],
      "metadata": {
        "id": "VH1FL9WdminZ"
      }
    },
    {
      "cell_type": "code",
      "source": [
        "#1. How do you create a basic Flask application?\n",
        "\n",
        "from flask import Flask\n",
        "\n",
        "app = Flask(__name__)\n",
        "\n",
        "@app.route('/')\n",
        "def home():\n",
        "    return 'Hello, World!'\n",
        "\n",
        "if __name__ == '__main__':\n",
        "    app.run(debug=True)"
      ],
      "metadata": {
        "id": "vtBoefC-mhaB"
      },
      "execution_count": null,
      "outputs": []
    },
    {
      "cell_type": "code",
      "source": [
        "#2. How do you serve static files like images or CSS in Flask?\n",
        "yourapp/\n",
        "├── app.py\n",
        "└── static/\n",
        "    ├── css/\n",
        "    └── images/"
      ],
      "metadata": {
        "id": "ug_b5JMXnryD"
      },
      "execution_count": null,
      "outputs": []
    },
    {
      "cell_type": "code",
      "source": [
        "#3. How do you define different routes with different HTTP methods in Flask?\n",
        "@app.route('/submit', methods=['POST'])\n",
        "def submit_form():\n",
        "    return 'Form Submitted'\n",
        "\n",
        "@app.route('/view', methods=['GET'])\n",
        "def view_data():\n",
        "    return 'Viewing Data'\n"
      ],
      "metadata": {
        "id": "tko4BpnFn4JR"
      },
      "execution_count": null,
      "outputs": []
    },
    {
      "cell_type": "code",
      "source": [
        "#4. How do you render HTML templates in Flask?\n",
        "from flask import render_template\n",
        "\n",
        "@app.route('/')\n",
        "def home():\n",
        "    return render_template('index.html')\n"
      ],
      "metadata": {
        "id": "Ur4OheEboBMN"
      },
      "execution_count": null,
      "outputs": []
    },
    {
      "cell_type": "code",
      "source": [
        "#5. How can you generate URLs for routes in Flask using url_for?\n",
        "from flask import url_for\n",
        "\n",
        "@app.route('/')\n",
        "def home():\n",
        "    return 'Welcome to Home'\n",
        "\n",
        "@app.route('/profile')\n",
        "def profile():\n",
        "    return 'This is your profile'\n",
        "\n",
        "@app.route('/redirect_to_profile')\n",
        "def redirect_to_profile():\n",
        "    return redirect(url_for('profile'))\n"
      ],
      "metadata": {
        "id": "zNDu36otoBIq"
      },
      "execution_count": null,
      "outputs": []
    },
    {
      "cell_type": "code",
      "source": [
        "#6. How do you handle forms in Flask?\n",
        "from flask import request, render_template\n",
        "\n",
        "@app.route('/submit', methods=['POST'])\n",
        "def submit_form():\n",
        "    username = request.form.get('username')\n",
        "    return f\"Hello {username}!\"\n"
      ],
      "metadata": {
        "id": "ekI-Vxt5ohcs"
      },
      "execution_count": null,
      "outputs": []
    },
    {
      "cell_type": "code",
      "source": [
        "#7. How can you validate form data in Flask?\n",
        "from flask import Flask, request\n",
        "from wtforms import Form, StringField, validators\n",
        "\n",
        "class MyForm(Form):\n",
        "    name = StringField('Name', [validators.Length(min=4, max=25)])\n",
        "\n",
        "@app.route('/submit', methods=['POST'])\n",
        "def submit_form():\n",
        "    form = MyForm(request.form)\n",
        "    if form.validate():\n",
        "        return f\"Hello {form.name.data}!\"\n",
        "    else:\n",
        "        return \"Form data is not valid\"\n"
      ],
      "metadata": {
        "id": "YcshxGCdohWu"
      },
      "execution_count": null,
      "outputs": []
    },
    {
      "cell_type": "code",
      "source": [
        "#8. How do you manage sessions in Flask?\n",
        "from flask import session\n",
        "\n",
        "@app.route('/set_session')\n",
        "def set_session():\n",
        "    session['username'] = 'suraji'\n",
        "    return 'Session set'\n",
        "\n",
        "@app.route('/get_session')\n",
        "def get_session():\n",
        "    username = session.get('username')\n",
        "    return f\"Hello, {username}\"\n",
        "\n"
      ],
      "metadata": {
        "id": "OkiwAZEXohSz"
      },
      "execution_count": null,
      "outputs": []
    },
    {
      "cell_type": "code",
      "source": [
        "#9. How do you redirect to a different route in Flask?\n",
        "from flask import redirect, url_for\n",
        "\n",
        "@app.route('/go_to_home')\n",
        "def go_to_home():\n",
        "    return redirect(url_for('home'))\n"
      ],
      "metadata": {
        "id": "fEPFgMrvohNa"
      },
      "execution_count": null,
      "outputs": []
    },
    {
      "cell_type": "code",
      "source": [
        "#10. How do you handle errors in Flask (e.g., 404)?\n",
        "@app.errorhandler(404)\n",
        "def not_found(error):\n",
        "    return \"Page not found\", 404\n"
      ],
      "metadata": {
        "id": "GuEZLXeUohAL"
      },
      "execution_count": null,
      "outputs": []
    },
    {
      "cell_type": "code",
      "source": [
        "#11. How do you structure a Flask app using Blueprints?\n",
        "# In yourapp/views.py\n",
        "from flask import Blueprint\n",
        "\n",
        "views = Blueprint('views', __name__)\n",
        "\n",
        "@views.route('/')\n",
        "def home():\n",
        "    return \"Home page\"\n",
        "\n",
        "# In yourapp/__init__.py\n",
        "from flask import Flask\n",
        "from .views import views\n",
        "\n",
        "app = Flask(__name__)\n",
        "app.register_blueprint(views)\n"
      ],
      "metadata": {
        "id": "GbiMLKY9pSaz"
      },
      "execution_count": null,
      "outputs": []
    },
    {
      "cell_type": "code",
      "source": [
        "#12. How do you define a custom Jinja filter in Flask?\n",
        "@app.template_filter('reverse')\n",
        "def reverse_filter(s):\n",
        "    return s[::-1]\n",
        "\n",
        "# In the template\n",
        "{{ 'hello' | reverse }}\n"
      ],
      "metadata": {
        "id": "ZgOQYNR4pW3y"
      },
      "execution_count": null,
      "outputs": []
    },
    {
      "cell_type": "code",
      "source": [
        "#13. How can you redirect with query parameters in Flask?\n",
        "@app.route('/redirect')\n",
        "def redirect_with_params():\n",
        "    return redirect(url_for('home', user='surajit', age=20))\n"
      ],
      "metadata": {
        "id": "UcIZHfNZpbVs"
      },
      "execution_count": null,
      "outputs": []
    },
    {
      "cell_type": "code",
      "source": [
        "#14. How do you return JSON responses in Flask?\n",
        "from flask import jsonify\n",
        "\n",
        "@app.route('/data')\n",
        "def data():\n",
        "    return jsonify(message=\"Hello, World!\", status=\"success\")\n"
      ],
      "metadata": {
        "id": "JTnjm4YNpgOB"
      },
      "execution_count": null,
      "outputs": []
    },
    {
      "cell_type": "code",
      "source": [
        "#15. How do you capture URL parameters in Flask?\n",
        "@app.route('/user/<username>')\n",
        "def show_user(username):\n",
        "    return f\"User {username}\"\n"
      ],
      "metadata": {
        "id": "5ymcuGhPpm1T"
      },
      "execution_count": null,
      "outputs": []
    }
  ]
}